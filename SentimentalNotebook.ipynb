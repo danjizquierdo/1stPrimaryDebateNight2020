{
 "cells": [
  {
   "cell_type": "code",
   "execution_count": null,
   "metadata": {},
   "outputs": [],
   "source": [
    "from py2neo import Graph, Node, Relationship\n",
    "import pandas as pd\n",
    "import numpy as np\n",
    "import seaborn as sns\n",
    "import matplotlib.pyplot as plt"
   ]
  },
  {
   "cell_type": "code",
   "execution_count": null,
   "metadata": {},
   "outputs": [],
   "source": [
    "#Connect to graph\n",
    "graph = Graph(\"bolt://localhost:7687\", auth=(\"neo4j\", \"password\")) "
   ]
  },
  {
   "cell_type": "code",
   "execution_count": null,
   "metadata": {},
   "outputs": [],
   "source": [
    "#Retrieve all tweets mentioning candidates\n",
    "query = \"\"\"\\\n",
    "MATCH p= (c:Candidate)<-[]-(t:Tweet)\n",
    "return t.created_at as time, c.screen_name as candidate, t.sentiment as sentiment\n",
    "\"\"\"\n",
    "s_df=graph.run(query).to_data_frame()\n",
    "s_df.set_index(pd.to_datetime(df['time']).timestamp())"
   ]
  },
  {
   "cell_type": "code",
   "execution_count": null,
   "metadata": {},
   "outputs": [],
   "source": [
    "#Make sure things look alright\n",
    "s_df.head()"
   ]
  },
  {
   "cell_type": "code",
   "execution_count": null,
   "metadata": {},
   "outputs": [],
   "source": [
    "#Create a sentiment plot over time for each candidate\n",
    "for candidate in df.candidate:\n",
    "    plt.figure()\n",
    "    sns.distplot(s_df.loc[candidate].query[one hour before debate<df.index<one hour after debate]['sentiment'])\n",
    "    plt.title(candidate)\n",
    "    plt.xlim((-1,1))\n",
    "    tweet_cnt = len(s_df.loc[candidate].query[one hour before debate<df.index<one hour after debate]['sentiment'])\n",
    "    plt.xlabel(f'Tweet Sentiment for {tweet_cnt} tweets')\n",
    "    plt.show();"
   ]
  },
  {
   "cell_type": "code",
   "execution_count": null,
   "metadata": {},
   "outputs": [],
   "source": [
    "#Retrieve updates on candidate follower counts over time\n",
    "retweet_sample_query= \"\"\"\n",
    "MATCH (c:Candidate)<-[rt]-[u:User]\n",
    "RETURN c.name, rt.usrFollowerCount as followers, r.timestamp as time\n",
    "\"\"\"\n",
    "rt_df=graph.run(retweet_time_query).to_data_frame()"
   ]
  },
  {
   "cell_type": "code",
   "execution_count": null,
   "metadata": {},
   "outputs": [],
   "source": [
    "#Create plot showing follower change for each candidate\n",
    "for ind in range(len(rt_df)):\n",
    "    fig,ax = plt.subplots()\n",
    "    tweet = rt_df.iloc[ind]\n",
    "    min_t=min(tweet['time'])\n",
    "    min_f=min(tweet['followers'])\n",
    "    t = (pd.Series(tweet['time'])-min_t)/60/60\n",
    "    name = tweet['c.name']\n",
    "    fol = pd.Series(tweet['followers'])-min_f\n",
    "    plt.plot(t,fol)\n",
    "    plt.title(name)\n",
    "    plt.xlabel('Time since the morning of the debate')\n",
    "    plt.legend(['Follower Change'])\n",
    "    plt.show();"
   ]
  },
  {
   "cell_type": "code",
   "execution_count": null,
   "metadata": {},
   "outputs": [],
   "source": []
  }
 ],
 "metadata": {
  "kernelspec": {
   "display_name": "Python 3",
   "language": "python",
   "name": "python3"
  },
  "language_info": {
   "codemirror_mode": {
    "name": "ipython",
    "version": 3
   },
   "file_extension": ".py",
   "mimetype": "text/x-python",
   "name": "python",
   "nbconvert_exporter": "python",
   "pygments_lexer": "ipython3",
   "version": "3.7.1"
  }
 },
 "nbformat": 4,
 "nbformat_minor": 2
}
